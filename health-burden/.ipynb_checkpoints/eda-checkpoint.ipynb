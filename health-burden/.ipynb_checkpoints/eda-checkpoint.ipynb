{
 "cells": [
  {
   "cell_type": "markdown",
   "metadata": {},
   "source": [
    "# Health Burden"
   ]
  },
  {
   "cell_type": "markdown",
   "metadata": {},
   "source": [
    "## Set up"
   ]
  },
  {
   "cell_type": "code",
   "execution_count": 2,
   "metadata": {
    "collapsed": false
   },
   "outputs": [],
   "source": [
    "# Read in data\n",
    "import pandas\n",
    "data = pandas.read_csv('./data/prepped/risk-data.csv')"
   ]
  },
  {
   "cell_type": "markdown",
   "metadata": {},
   "source": [
    "## Data Structure\n",
    "To get a basic sense of your dataset, check the following:\n",
    "\n",
    "- How large is the dataset (rows, columns)?\n",
    "- What are the variables present in the dataset?\n",
    "- What is the data type of each variable?"
   ]
  },
  {
   "cell_type": "code",
   "execution_count": 34,
   "metadata": {
    "collapsed": false
   },
   "outputs": [
    {
     "name": "stdout",
     "output_type": "stream",
     "text": [
      "\n",
      "These are the columns and their data types: \n",
      "country          object\n",
      "country.code     object\n",
      "super.region     object\n",
      "region           object\n",
      "sex              object\n",
      "age              object\n",
      "pop             float64\n",
      "alcohol.use     float64\n",
      "drug.use        float64\n",
      "high.meat       float64\n",
      "low.exercise    float64\n",
      "smoking         float64\n",
      "dtype: object\n",
      "\n",
      " Number of Rows: 1950\n",
      " Number of Columns: 12\n",
      "\n",
      "                pop  alcohol.use     drug.use    high.meat  low.exercise  \\\n",
      "count  1.950000e+03  1950.000000  1950.000000  1170.000000   1170.000000   \n",
      "mean   3.777708e+06    47.146545     7.128357     2.594225    119.552443   \n",
      "std    1.913391e+07    86.009150    14.197640     4.043355    153.239610   \n",
      "min    3.563755e+02  -106.232008     0.000038     0.000176      0.308731   \n",
      "25%    1.000900e+05     0.273705     0.030068     0.154818      4.033243   \n",
      "50%    5.054975e+05     6.784878     1.917572     0.817486     40.743931   \n",
      "75%    2.071966e+06    54.987255     8.528416     3.286753    209.803827   \n",
      "max    3.901690e+08   662.914151   314.625888    36.087746    844.249502   \n",
      "\n",
      "           smoking  \n",
      "count  1170.000000  \n",
      "mean    299.520438  \n",
      "std     437.167168  \n",
      "min       0.532166  \n",
      "25%      19.149328  \n",
      "50%     105.816725  \n",
      "75%     409.049890  \n",
      "max    2691.239677  \n"
     ]
    }
   ],
   "source": [
    "num_columns = len(data.columns)\n",
    "num_rows = len(data)\n",
    "\n",
    "print (\"\\nThese are the columns and their data types: \\n\" + str(data.dtypes))\n",
    "    \n",
    "print(\"\\n Number of Rows: \" + str(num_rows) + \"\\n Number of Columns: \" + str(num_columns) + \"\\n\")\n",
    "\n",
    "print(data.describe())\n",
    "\n"
   ]
  },
  {
   "cell_type": "code",
   "execution_count": 58,
   "metadata": {
    "collapsed": false
   },
   "outputs": [
    {
     "name": "stdout",
     "output_type": "stream",
     "text": [
      "       country country.code                  super.region  \\\n",
      "1800      Chad          TCD            Sub-Saharan Africa   \n",
      "1902   Nigeria          NGA            Sub-Saharan Africa   \n",
      "1675  Tanzania          TZA            Sub-Saharan Africa   \n",
      "1415    Turkey          TUR  North Africa and Middle East   \n",
      "1676  Tanzania          TZA            Sub-Saharan Africa   \n",
      "\n",
      "                            region     sex        age        pop  alcohol.use  \\\n",
      "1800    Western Sub-Saharan Africa    male  70+ years    91535.0   282.953866   \n",
      "1902    Western Sub-Saharan Africa  female  70+ years  1386263.0   203.948491   \n",
      "1675    Eastern Sub-Saharan Africa    male  70+ years   477080.0   399.503112   \n",
      "1415  North Africa and Middle East  female  70+ years  2370019.0     8.360725   \n",
      "1676    Eastern Sub-Saharan Africa  female  70+ years   557176.0   250.831526   \n",
      "\n",
      "       drug.use  high.meat  low.exercise     smoking  \n",
      "1800  27.271814   3.529395    226.732506  656.300923  \n",
      "1902   5.562312   0.259720    155.367318  149.051961  \n",
      "1675  13.960175   1.273415    161.333149  558.628328  \n",
      "1415   2.743579   0.190449    210.047304  159.534789  \n",
      "1676   4.491325   0.972382    106.958067  110.145332  \n"
     ]
    }
   ],
   "source": [
    "data = data.sort_values(\"age\")\n",
    "data_no_na = data.dropna()\n",
    "print(data_no_na.tail(5))"
   ]
  },
  {
   "cell_type": "code",
   "execution_count": null,
   "metadata": {
    "collapsed": true
   },
   "outputs": [],
   "source": []
  },
  {
   "cell_type": "markdown",
   "metadata": {},
   "source": [
    "\n",
    "## Univariate Analysis\n",
    "For each variable of interest, answer the following questions. As you do so, begin making a list of further questions you would like to investigate:\n",
    "\n",
    "- What does the distribution of each (risk factor) variable look like?\n",
    "- Is any variable ever missing (and if so, why)?\n",
    "- What are the basic summary statistics (mean, median, standard deviation) each variable, and what is it's range (min/max)?\n",
    "- What do you find surprising?"
   ]
  },
  {
   "cell_type": "code",
   "execution_count": 62,
   "metadata": {
    "collapsed": false
   },
   "outputs": [
    {
     "name": "stdout",
     "output_type": "stream",
     "text": [
      "pop             528688.000000\n",
      "alcohol.use         41.167749\n",
      "drug.use             6.578756\n",
      "high.meat            0.817486\n",
      "low.exercise        40.743931\n",
      "smoking            105.816725\n",
      "dtype: float64\n",
      "pop             2.358007e+07\n",
      "alcohol.use     9.949582e+01\n",
      "drug.use        1.677325e+01\n",
      "high.meat       4.043355e+00\n",
      "low.exercise    1.532396e+02\n",
      "smoking         4.371672e+02\n",
      "dtype: float64\n",
      "country                                              Afghanistan\n",
      "country.code                                                 AFG\n",
      "super.region    Central Europe, Eastern Europe, and Central Asia\n",
      "region                                      Andean Latin America\n",
      "sex                                                       female\n",
      "age                                                  15-49 years\n",
      "pop                                                      356.376\n",
      "alcohol.use                                             -106.232\n",
      "drug.use                                                0.244291\n",
      "high.meat                                            0.000175676\n",
      "low.exercise                                            0.308731\n",
      "smoking                                                 0.532166\n",
      "dtype: object\n"
     ]
    }
   ],
   "source": [
    "\n",
    "print(data_no_na.median())\n",
    "print(data_no_na.std())\n",
    "print(data_no_na.min())"
   ]
  },
  {
   "cell_type": "markdown",
   "metadata": {},
   "source": []
  },
  {
   "cell_type": "markdown",
   "metadata": {},
   "source": [
    "## Univariate analysis (by age)\n",
    "In this section, you should investigate how each (risk-variable) varies by **age group**. More specifically, consider if the distribution of each variable of interest (smoking, alcohol use, etc.) is consistent across age-groups."
   ]
  },
  {
   "cell_type": "code",
   "execution_count": 3,
   "metadata": {
    "collapsed": true
   },
   "outputs": [],
   "source": [
    "# Code goes here"
   ]
  },
  {
   "cell_type": "markdown",
   "metadata": {},
   "source": [
    "## Univariate analysis (by sex)\n",
    "In this section, you should investigate how each (risk-variable) varies by **sex group**. More specifically, consider if the distribution of each variable of interest (smoking, alcohol use, etc.) is consistent across sex-groups. Depending on your procedure, you may need to **reshape your data**."
   ]
  },
  {
   "cell_type": "code",
   "execution_count": 4,
   "metadata": {
    "collapsed": true
   },
   "outputs": [],
   "source": [
    "# Code goes here"
   ]
  },
  {
   "cell_type": "markdown",
   "metadata": {},
   "source": [
    "## Univariate analysis (by country)\n",
    "In this section, you should investigate how each (risk-variable) varies by **country**. Given the number of countries present in the dataset, I suggest that you aggregate your data by region. In order to do this, you'll need to **convert death rates to deaths** using the `pop` column."
   ]
  },
  {
   "cell_type": "code",
   "execution_count": 5,
   "metadata": {
    "collapsed": true
   },
   "outputs": [],
   "source": [
    "# Code goes here"
   ]
  },
  {
   "cell_type": "markdown",
   "metadata": {},
   "source": [
    "## Bivariate analysis\n",
    "In this section, you should compare risks-variables to one another to see how they co-vary. Use simple statistical tests (i.e., **correlation**) and visualization as you see fit. "
   ]
  },
  {
   "cell_type": "code",
   "execution_count": 6,
   "metadata": {
    "collapsed": true
   },
   "outputs": [],
   "source": [
    "# Code goes here"
   ]
  }
 ],
 "metadata": {
  "kernelspec": {
   "display_name": "Python 3",
   "language": "python",
   "name": "python3"
  },
  "language_info": {
   "codemirror_mode": {
    "name": "ipython",
    "version": 3
   },
   "file_extension": ".py",
   "mimetype": "text/x-python",
   "name": "python",
   "nbconvert_exporter": "python",
   "pygments_lexer": "ipython3",
   "version": "3.4.4"
  }
 },
 "nbformat": 4,
 "nbformat_minor": 0
}
